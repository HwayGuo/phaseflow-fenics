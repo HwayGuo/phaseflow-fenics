{
 "cells": [
  {
   "cell_type": "markdown",
   "metadata": {},
   "source": [
    "# Solving incompressible flow with adaptive mixed finite elements in FEniCS"
   ]
  },
  {
   "cell_type": "markdown",
   "metadata": {},
   "source": [
    "This Jupyter notebook shows how to solve the lid-driven cavity benchmark for incompressible flow by solving the Navier-Stokes equations using mixed finite elements in FEniCS [1] with goal-oriented adaptive mesh refinement (AMR)."
   ]
  },
  {
   "cell_type": "markdown",
   "metadata": {},
   "source": [
    "|Nomenclature||\n",
    "|------------|-|\n",
    "|$\\mathbf{x}$| point in the spatial domain|\n",
    "|$\\mathbf{u} = \\mathbf{u}(\\mathbf{x})$| velocity vector field|\n",
    "|$p = p(\\mathbf{x})$| pressure field|\n",
    "|$\\mu$| constant dynamic viscosity of the fluid|\n",
    "|$\\Omega$| spatial domain |\n",
    "|$\\mathbf{w} = \\begin{pmatrix} \\mathbf{u} \\\\ p \\end{pmatrix}$| system solution|\n",
    "|$\\mathbf{W}$| mixed finite element function space |\n",
    "|$\\boldsymbol{\\psi} = \\begin{pmatrix} \\boldsymbol{\\psi}_u \\\\ \\psi_p \\end{pmatrix}$| mixed finite element basis functions|\n",
    "|$\\Omega_h$| discrete spatial domain, i.e. the mesh |\n",
    "|$M$| goal functional |\n",
    "|$\\epsilon_M$| error tolerance for goal-oriented AMR |"
   ]
  },
  {
   "cell_type": "markdown",
   "metadata": {},
   "source": [
    "## The Navier-stokes equations for incompressible flow"
   ]
  },
  {
   "cell_type": "markdown",
   "metadata": {},
   "source": [
    "The steady incompressible Navier-Stokes equations can be written as\n",
    "\n",
    "\\begin{align*} \n",
    "    \\left( \\mathbf{u}\\cdot\\nabla \\right)\\mathbf{u} + \\nabla p - 2\\mu \\nabla \\cdot \\mathbf{D}(\\mathbf{u}) &= 0 \\quad \\\\\n",
    "    \\nabla \\cdot \\mathbf{u} &= 0 \\quad  \\\\\n",
    "\\end{align*}\n",
    "\n",
    "where  $\\mathbf{D}(\\mathbf{u}) = \\mathrm{sym}(\\nabla\\mathbf{u}) = \\frac{1}{2}\\left(\\nabla \\mathbf{u} +  \\left( \\nabla \\mathbf{u} \\right)^{\\mathrm{T}} \\right)$ is the Newtonian fluid's rate of strain tensor."
   ]
  },
  {
   "cell_type": "markdown",
   "metadata": {},
   "source": [
    "## Python packages"
   ]
  },
  {
   "cell_type": "markdown",
   "metadata": {},
   "source": [
    "Import the Python packages for use in this notebook."
   ]
  },
  {
   "cell_type": "markdown",
   "metadata": {},
   "source": [
    "We need the finite element method library FEniCS."
   ]
  },
  {
   "cell_type": "code",
   "execution_count": 1,
   "metadata": {},
   "outputs": [],
   "source": [
    "import fenics"
   ]
  },
  {
   "cell_type": "markdown",
   "metadata": {},
   "source": [
    "|Note|\n",
    "|----|\n",
    "| This Jupyter notebook server is using FEniCS 2017.2.0 from ppa:fenics-packages/fenics, installed via `apt` on Ubuntu 16.04.|"
   ]
  },
  {
   "cell_type": "markdown",
   "metadata": {},
   "source": [
    "FEniCS has convenient plotting features that don't require us to import `matplotlib`; but using `matplotlib` directly will allow us to annotate the plots."
   ]
  },
  {
   "cell_type": "code",
   "execution_count": 2,
   "metadata": {},
   "outputs": [],
   "source": [
    "import matplotlib"
   ]
  },
  {
   "cell_type": "markdown",
   "metadata": {},
   "source": [
    "Tell this notebook to embed graphical outputs from `matplotlib`, includings those made by `fenics.plot`."
   ]
  },
  {
   "cell_type": "code",
   "execution_count": 3,
   "metadata": {},
   "outputs": [],
   "source": [
    "%matplotlib inline"
   ]
  },
  {
   "cell_type": "markdown",
   "metadata": {},
   "source": [
    "## Coarse mesh"
   ]
  },
  {
   "cell_type": "markdown",
   "metadata": {},
   "source": [
    "Now, define a coarse mesh on the unit square."
   ]
  },
  {
   "cell_type": "code",
   "execution_count": 4,
   "metadata": {},
   "outputs": [],
   "source": [
    "N = 4\n",
    "\n",
    "mesh = fenics.UnitSquareMesh(N, N)"
   ]
  },
  {
   "cell_type": "markdown",
   "metadata": {},
   "source": [
    "Let's look at the mesh."
   ]
  },
  {
   "cell_type": "code",
   "execution_count": 5,
   "metadata": {},
   "outputs": [
    {
     "data": {
      "text/plain": [
       "Text(0, 0.5, '$y$')"
      ]
     },
     "execution_count": 5,
     "metadata": {},
     "output_type": "execute_result"
    },
    {
     "data": {
      "image/png": "[encoded data removed]",
      "text/plain": [
       "<Figure size 432x288 with 1 Axes>"
      ]
     },
     "metadata": {},
     "output_type": "display_data"
    }
   ],
   "source": [
    "fenics.plot(mesh)\n",
    "\n",
    "matplotlib.pyplot.title(\"Coarse Mesh\")\n",
    "\n",
    "matplotlib.pyplot.xlabel(\"$x$\")\n",
    "\n",
    "matplotlib.pyplot.ylabel(\"$y$\")"
   ]
  },
  {
   "cell_type": "markdown",
   "metadata": {},
   "source": [
    "## Mixed finite element function space, test functions, and solution functions"
   ]
  },
  {
   "cell_type": "markdown",
   "metadata": {},
   "source": [
    "Make the Taylor-Hood (i.e. P2P1) mixed finite element, which has been shown to be stable for the incompressible Navier-Stokes equations [2]."
   ]
  },
  {
   "cell_type": "code",
   "execution_count": 6,
   "metadata": {},
   "outputs": [],
   "source": [
    "P2 = fenics.VectorElement('P', mesh.ufl_cell(), 2)\n",
    "\n",
    "P1 = fenics.FiniteElement('P', mesh.ufl_cell(), 1)\n",
    "\n",
    "P2P1 = fenics.MixedElement([P2, P1])"
   ]
  },
  {
   "cell_type": "markdown",
   "metadata": {},
   "source": [
    "|Note|\n",
    "|----|\n",
    "|`fenics.FiniteElement` requires the `mesh.ufl_cell()` argument to determine some aspects of the domain (e.g. that the spatial domain is two-dimensional).|"
   ]
  },
  {
   "cell_type": "markdown",
   "metadata": {},
   "source": [
    "Make the mixed finite element function space $\\mathbf{W}$, which enumerates the finite element basis functions on each cell of the mesh."
   ]
  },
  {
   "cell_type": "code",
   "execution_count": 7,
   "metadata": {},
   "outputs": [],
   "source": [
    "W = fenics.FunctionSpace(mesh, P2P1)"
   ]
  },
  {
   "cell_type": "markdown",
   "metadata": {},
   "source": [
    "Make the test functions $\\boldsymbol{\\psi}_u$ and $\\psi_p$."
   ]
  },
  {
   "cell_type": "code",
   "execution_count": 8,
   "metadata": {},
   "outputs": [],
   "source": [
    "psi_u, psi_p = fenics.TestFunctions(W)"
   ]
  },
  {
   "cell_type": "markdown",
   "metadata": {},
   "source": [
    "Make the system solution function $\\mathbf{w} \\in \\mathbf{W}$ and obtain references to its components $\\mathbf{u}$ and $p$."
   ]
  },
  {
   "cell_type": "code",
   "execution_count": 9,
   "metadata": {},
   "outputs": [],
   "source": [
    "w = fenics.Function(W)\n",
    "\n",
    "u, p = fenics.split(w)"
   ]
  },
  {
   "cell_type": "markdown",
   "metadata": {},
   "source": [
    "## Benchmark parameters"
   ]
  },
  {
   "cell_type": "markdown",
   "metadata": {},
   "source": [
    "Set a constant dynamic viscosity $\\mu$. Here we choose $\\mu = 0.01$ corresponding to a Reynolds Number of $\\mathrm{Re} = 100$. We define a `fenics.Constant` for use in the variational form so that FEniCS can more efficiently compile the finite element code."
   ]
  },
  {
   "cell_type": "code",
   "execution_count": 10,
   "metadata": {},
   "outputs": [],
   "source": [
    "dynamic_viscosity = 0.01\n",
    "\n",
    "mu = fenics.Constant(dynamic_viscosity)"
   ]
  },
  {
   "cell_type": "markdown",
   "metadata": {},
   "source": [
    "Now we have everything we need to define the nonlinear variational form. First let's define aliases for some of the build-in math functions from `fenics` to improve readability. We also define an alias for the integration measure $d\\mathbf{x}$."
   ]
  },
  {
   "cell_type": "markdown",
   "metadata": {},
   "source": [
    "## Nonlinear variational form"
   ]
  },
  {
   "cell_type": "markdown",
   "metadata": {},
   "source": [
    "We can write the nonlinear system of equations as\n",
    "\n",
    "\\begin{align*}\n",
    "\\mathbf{F}(\\mathbf{w}) = \\mathbf{0}\n",
    "\\end{align*}\n",
    "\n",
    "To obtain the finite element weak form, we follow the standard Ritz-Galerkin method extended for mixed finite elements. Therefore, we multiply the system  *from the left* by test functions $\\boldsymbol{\\psi}$ from the mixed finite element function space $\\mathbf{W}$ and integrate over the spatial domain $\\Omega$. This gives us the variational problem: Find $\\mathbf{w} \\in \\mathbf{W}$ such that\n",
    "\n",
    "\\begin{align*}\n",
    "    \\mathcal{F}(\\boldsymbol{\\psi};\\mathbf{w}) = \\int_\\Omega \n",
    "    \\boldsymbol{\\psi}^\\mathrm{T} \\mathbf{F}(\\mathbf{w}) \n",
    "    d\\mathbf{x} = 0 \\quad \\forall \\boldsymbol{\\psi} \\in \\mathbf{W}\n",
    "\\end{align*}"
   ]
  },
  {
   "cell_type": "markdown",
   "metadata": {},
   "source": [
    " Integrating $\\mathcal{F}$ by parts yields\n",
    "\n",
    "\\begin{align*}\n",
    "    \\mathcal{F}(\\boldsymbol{\\psi};\\mathbf{w}) = (\\boldsymbol{\\psi}_u, \\nabla\\mathbf{u}\\cdot\\mathbf{u}) -(\\nabla\\cdot\\boldsymbol{\\psi}_u,p) + 2\\mu(\\mathbf{D}(\\boldsymbol{\\psi}_u),\\mathbf{D}(\\mathbf{u})) \\\\\n",
    "    -(\\psi_p,\\nabla\\cdot\\mathbf{u})\n",
    "\\end{align*}\n",
    "\n",
    "|Note| \n",
    "|----|\n",
    "|We denote integrating inner products over the domain as $(v,u) = \\int_\\Omega v u d \\mathbf{x}$ or $(\\mathbf{v},\\mathbf{u}) = \\int_\\Omega \\mathbf{v} \\cdot \\mathbf{u} d \\mathbf{x}$.|"
   ]
  },
  {
   "cell_type": "markdown",
   "metadata": {},
   "source": [
    "Define the nonlinear variational form $\\mathcal{F}$."
   ]
  },
  {
   "cell_type": "code",
   "execution_count": 11,
   "metadata": {},
   "outputs": [],
   "source": [
    "inner, dot, grad, div, sym = \\\n",
    "    fenics.inner, fenics.dot, fenics.grad, fenics.div, fenics.sym\n",
    "\n",
    "momentum = dot(psi_u, dot(grad(u), u)) - div(psi_u)*p \\\n",
    "    + 2.*mu*inner(sym(grad(psi_u)), sym(grad(u)))\n",
    "\n",
    "mass = -psi_p*div(u)\n",
    "        \n",
    "F = (momentum + mass)*fenics.dx"
   ]
  },
  {
   "cell_type": "markdown",
   "metadata": {},
   "source": [
    "## Linearization"
   ]
  },
  {
   "cell_type": "markdown",
   "metadata": {},
   "source": [
    "Notice that $\\mathcal{F}$ is a *nonlinear* variational form. FEniCS will solve the nonlinear problem using Newton's method. This requires computing the Jacobian (formally the Gâteaux derivative) of the nonlinear variational form, yielding a a sequence of linearized problems whose solutions may converge to approximate the nonlinear solution.\n",
    "\n",
    "We could manually define the Jacobian; but thankfully FEniCS can do this for us."
   ]
  },
  {
   "cell_type": "code",
   "execution_count": 12,
   "metadata": {},
   "outputs": [],
   "source": [
    "JF = fenics.derivative(F, w, fenics.TrialFunction(W))"
   ]
  },
  {
   "cell_type": "markdown",
   "metadata": {},
   "source": [
    "|Note|\n",
    "|----|\n",
    "|When solving linear variational problems in FEniCS, one defines the linear variational form using `fenics.TrialFunction` instead of `fenics.Function` (while both approaches will need `fenics.TestFunction`). When solving nonlinear variational problems with FEniCS, we only need `fenics.TrialFunction` to define the linearized problem, since it is the linearized problem which will be assembled into a linear system and solved.|"
   ]
  },
  {
   "cell_type": "markdown",
   "metadata": {},
   "source": [
    "## Boundary conditions"
   ]
  },
  {
   "cell_type": "markdown",
   "metadata": {},
   "source": [
    "We need boundary conditions before we can define a nonlinear variational *problem* (i.e. in this case a boundary value problem).\n",
    "\n",
    "For the lid-driven cavity, we physically consider *no slip* velocity boundary conditions for all boundaries. These manifest as homogeneous Dirichlet boundary conditions on the fixed walls, but as a non-homogeneous Dirichlet boundary condition on the lid. Because the problem's geometry is simple, we can identify the boundaries with the following piece-wise function.\n",
    "\n",
    "\\begin{align*}\n",
    "    \\mathbf{u}(\\mathbf{x}) &= \n",
    "    \\begin{cases}\n",
    "    \\begin{pmatrix} 1 \\\\ 0 \\end{pmatrix}, && x_1 = 1 \\\\\n",
    "    \\begin{pmatrix} 0 \\\\ 0 \\end{pmatrix}, && x_0 = 0 \\hspace{2mm} \\mathrm{or} \\hspace{2mm} x_0 = 1 \\hspace{2mm} \\mathrm{or} \\hspace{2mm} x_1 = 0\n",
    "    \\end{cases}\n",
    "\\end{align*}"
   ]
  },
  {
   "cell_type": "code",
   "execution_count": 13,
   "metadata": {},
   "outputs": [],
   "source": [
    "lid_velocity = (1., 0.)\n",
    "\n",
    "lid_location = \"near(x[1],  1.)\"\n",
    "\n",
    "fixed_wall_velocity = (0., 0.)\n",
    "\n",
    "fixed_wall_locations = \"near(x[0], 0.) | near(x[0], 1.) | near(x[1], 0.)\""
   ]
  },
  {
   "cell_type": "markdown",
   "metadata": {},
   "source": [
    "Define the boundary conditions on the velocity subspace."
   ]
  },
  {
   "cell_type": "code",
   "execution_count": 14,
   "metadata": {},
   "outputs": [],
   "source": [
    "V = W.sub(0)\n",
    "\n",
    "boundary_conditions = [\n",
    "    fenics.DirichletBC(V, lid_velocity, lid_location),\n",
    "    fenics.DirichletBC(V, fixed_wall_velocity, fixed_wall_locations)]"
   ]
  },
  {
   "cell_type": "markdown",
   "metadata": {},
   "source": [
    "## Nonlinear variational problem"
   ]
  },
  {
   "cell_type": "markdown",
   "metadata": {},
   "source": [
    "Now we have everything we need to define the variational problem."
   ]
  },
  {
   "cell_type": "code",
   "execution_count": 15,
   "metadata": {},
   "outputs": [],
   "source": [
    "problem = fenics.NonlinearVariationalProblem(F, w, boundary_conditions, JF)"
   ]
  },
  {
   "cell_type": "markdown",
   "metadata": {},
   "source": [
    "## Goal-oriented adaptive mesh refinement (AMR)"
   ]
  },
  {
   "cell_type": "markdown",
   "metadata": {},
   "source": [
    "We wish to solve the problem with adaptive mesh refinement (AMR). For this it helps to explain that we have already defined the *discrete* nonlinear variational problem using FEniCS: Find $\\mathbf{w}_h \\in \\mathbf{W}_h \\subset \\mathbf{W}(\\Omega)$ such that\n",
    "\n",
    "\\begin{align*}\n",
    "    \\mathcal{F}(\\boldsymbol{\\psi}_h;\\mathbf{w}_h) = 0 \\quad \\forall \\boldsymbol{\\psi}_h \\in \\mathbf{W}_h \\subset \\mathbf{W}\n",
    "\\end{align*}"
   ]
  },
  {
   "cell_type": "markdown",
   "metadata": {},
   "source": [
    "Given this, goal-oriented AMR poses the problem: Find $\\mathbf{W}_h \\subset \\mathbf{W}(\\Omega)$ and $\\mathbf{w}_h \\in \\mathbf{W}_h$ such that\n",
    "\n",
    "\\begin{align*}\n",
    "    \\left| M(\\mathbf{w}) - M(\\mathbf{w}_h) \\right| < \\epsilon_M\n",
    "\\end{align*}\n",
    "\n",
    "where $M$ is some goal functional of the solution which we integrate over the domain, and where $\\epsilon_M$ is a prescribed tolerance. Note that since we do not know the exact solution $\\mathbf{w}$, this method requires an error estimator. This is detailed in [3]. For our purposes, we only need to define $M$ and $\\epsilon_M$.\n",
    "\n",
    "We choose a goal involving the horizontal velocity.\n",
    "\n",
    "\\begin{align*}\n",
    "    M = \\int_\\Omega u_0^2 d\\mathbf{x}\n",
    "\\end{align*}"
   ]
  },
  {
   "cell_type": "code",
   "execution_count": 16,
   "metadata": {},
   "outputs": [],
   "source": [
    "M = u[0]**2*fenics.dx"
   ]
  },
  {
   "cell_type": "markdown",
   "metadata": {},
   "source": [
    "Let's set the tolerance somewhat arbitrarily. For real problems of scientific or engineering interest, one might have accuracy requirements which could help drive this decision."
   ]
  },
  {
   "cell_type": "code",
   "execution_count": 17,
   "metadata": {},
   "outputs": [],
   "source": [
    "epsilon_M = 1.e-4"
   ]
  },
  {
   "cell_type": "markdown",
   "metadata": {},
   "source": [
    "## The benchmark solution"
   ]
  },
  {
   "cell_type": "markdown",
   "metadata": {},
   "source": [
    "Finally we instantiate the adaptive solver with our problem and goal"
   ]
  },
  {
   "cell_type": "code",
   "execution_count": 18,
   "metadata": {},
   "outputs": [],
   "source": [
    "solver = fenics.AdaptiveNonlinearVariationalSolver(problem, M)"
   ]
  },
  {
   "cell_type": "markdown",
   "metadata": {},
   "source": [
    "and solve the problem to the prescribed tolerance."
   ]
  },
  {
   "cell_type": "code",
   "execution_count": 19,
   "metadata": {},
   "outputs": [],
   "source": [
    "solver.solve(epsilon_M)"
   ]
  },
  {
   "cell_type": "markdown",
   "metadata": {},
   "source": [
    "|Note|\n",
    "|----|\n",
    "|`solver.solve` will modify the solution `w`, which means that `u` and `p` will also be modified.|"
   ]
  },
  {
   "cell_type": "code",
   "execution_count": 25,
   "metadata": {},
   "outputs": [],
   "source": [
    "u, p = fenics.split(w.leaf_node())"
   ]
  },
  {
   "cell_type": "markdown",
   "metadata": {},
   "source": [
    "Now plot the velocity vector field"
   ]
  },
  {
   "cell_type": "code",
   "execution_count": 26,
   "metadata": {},
   "outputs": [
    {
     "data": {
      "text/plain": [
       "Text(0, 0.5, '$y$')"
      ]
     },
     "execution_count": 26,
     "metadata": {},
     "output_type": "execute_result"
    },
    {
     "data": {
      "image/png": "[encoded data removed]",
      "text/plain": [
       "<Figure size 432x288 with 1 Axes>"
      ]
     },
     "metadata": {},
     "output_type": "display_data"
    }
   ],
   "source": [
    "fenics.plot(u)\n",
    "\n",
    "matplotlib.pyplot.title(\"Velocity vector field\")\n",
    "\n",
    "matplotlib.pyplot.xlabel(\"$x$\")\n",
    "\n",
    "matplotlib.pyplot.ylabel(\"$y$\")"
   ]
  },
  {
   "cell_type": "markdown",
   "metadata": {},
   "source": [
    "and also plot the adapted mesh."
   ]
  },
  {
   "cell_type": "code",
   "execution_count": 29,
   "metadata": {},
   "outputs": [
    {
     "data": {
      "text/plain": [
       "Text(0, 0.5, '$y$')"
      ]
     },
     "execution_count": 29,
     "metadata": {},
     "output_type": "execute_result"
    },
    {
     "data": {
      "image/png": "[encoded data removed]",
      "text/plain": [
       "<Figure size 432x288 with 1 Axes>"
      ]
     },
     "metadata": {},
     "output_type": "display_data"
    }
   ],
   "source": [
    "fenics.plot(w.leaf_node().function_space().mesh())\n",
    "\n",
    "matplotlib.pyplot.title(\"Adapted mesh\")\n",
    "\n",
    "matplotlib.pyplot.xlabel(\"$x$\")\n",
    "\n",
    "matplotlib.pyplot.ylabel(\"$y$\")"
   ]
  },
  {
   "cell_type": "markdown",
   "metadata": {},
   "source": [
    "## References\n",
    "[1] A Logg, KA Mardal, and GN Wells. **Automated Solution of Differential Equations by the Finite Element Method**, *Springer*, 2012.\n",
    "\n",
    "[2] J Donea and A Huerta. **Finite element methods for flow problems.** *John Wiley &\n",
    "Sons*, 2003.\n",
    "\n",
    "[3] W Bangerth and R Rannacher. **Adaptive Finite Element Methods for Differential Equations**. *Springer Science & Business Media*, 2003."
   ]
  }
 ],
 "metadata": {
  "kernelspec": {
   "display_name": "Python 3",
   "language": "python",
   "name": "python3"
  },
  "language_info": {
   "codemirror_mode": {
    "name": "ipython",
    "version": 3
   },
   "file_extension": ".py",
   "mimetype": "text/x-python",
   "name": "python",
   "nbconvert_exporter": "python",
   "pygments_lexer": "ipython3",
   "version": "3.6.6"
  }
 },
 "nbformat": 4,
 "nbformat_minor": 2
}
