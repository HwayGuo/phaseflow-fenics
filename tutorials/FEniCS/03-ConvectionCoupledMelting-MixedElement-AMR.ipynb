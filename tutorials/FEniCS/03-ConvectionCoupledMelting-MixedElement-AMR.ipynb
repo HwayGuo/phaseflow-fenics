{
 "cells": [
  {
   "cell_type": "markdown",
   "metadata": {},
   "source": [
    "# Solving convection-coupled melting with adaptive mixed finite elements"
   ]
  },
  {
   "cell_type": "markdown",
   "metadata": {},
   "source": [
    "This Jupyter notebook shows how to solve the convection-coupled melting benchmark with the general approach of [4], using mixed finite elements in FEniCS [1] with goal-oriented adaptive mesh refinement (AMR) as presented in [5]."
   ]
  },
  {
   "cell_type": "markdown",
   "metadata": {},
   "source": [
    "|Nomenclature||\n",
    "|------------|-|\n",
    "|$\\mathbf{x}$| point in the spatial domain|\n",
    "|$t$| time |\n",
    "|$p = p(\\mathbf{x},t)$| pressure field |\n",
    "|$\\mathbf{u} = \\mathbf{u}(\\mathbf{x},t)$| velocity vector field |\n",
    "|$T = T(\\mathbf{x},t)$| temperature field |\n",
    "|$\\phi$ | solid volume fraction |\n",
    "|$()_t = \\frac{\\partial}{\\partial t}()$| time derivative |\n",
    "|$T_r$| central temperature of the regularization |\n",
    "|$r$| smoothing parameter of the regularization |\n",
    "|$\\mu$| constant dynamic viscosity of the fluid|\n",
    "|$\\mathbf{f}_B(T)$| temperature-dependent buoyancy force|\n",
    "|$\\mathrm{Pr}$ | Prandtl number|\n",
    "|$\\mathrm{Ra}$ | Rayleigh number|\n",
    "|$\\mathrm{Ste}$| Stefan number|\n",
    "|$\\Omega$| spatial domain |\n",
    "|$\\mathbf{w} = \\begin{pmatrix} p \\\\ \\mathbf{u} \\\\ T \\end{pmatrix}$| system solution|\n",
    "|$\\mathbf{W}$| mixed finite element function space |\n",
    "|$\\boldsymbol{\\psi} = \\begin{pmatrix} \\psi_p \\\\ \\boldsymbol{\\psi}_u \\\\ \\psi_T \\end{pmatrix} $| mixed finite element basis functions|\n",
    "|$\\gamma$| penalty method stabilization parameter|\n",
    "|$T_h$| hot boundary temperature |\n",
    "|$T_c$| cold boundary temperature |\n",
    "|$\\Delta t$| time step size |\n",
    "|$\\Omega_h$| discrete spatial domain, i.e. the mesh |\n",
    "|$M$| goal functional |\n",
    "|$\\epsilon_M$| error tolerance for goal-oriented AMR |"
   ]
  },
  {
   "cell_type": "markdown",
   "metadata": {},
   "source": [
    "## Governing equations"
   ]
  },
  {
   "cell_type": "markdown",
   "metadata": {},
   "source": [
    "To model convection-coupled melting, we employ the system composed of the unsteady incompressible Navier-Stokes-Boussinesq equations and a enthalpy convection-diffusion equation, scaled for unit Reynolds Number as explained in [4], as\n",
    "\n",
    "\\begin{align*} \n",
    "    \\nabla \\cdot \\mathbf{u} &= 0  \\\\\n",
    "    \\mathbf{u}_t + \\left( \\mathbf{u}\\cdot\\nabla \\right)\\mathbf{u} + \\nabla p - 2\\nabla \\cdot \\left(\\mu(\\phi)\\mathbf{D}(\\mathbf{u})\\right) + \\mathbf{f}_B(T) &= 0  \\\\\n",
    "    T_t + \\mathbf{u}\\cdot\\nabla T - \\frac{1}{\\mathrm{Pr}}\\Delta T - \\frac{1}{\\mathrm{Ste}}\\phi_t &= 0\n",
    "\\end{align*}\n",
    "\n",
    "where  $\\mathbf{D}(\\mathbf{u}) = \\mathrm{sym}(\\mathbf{u}) = \\frac{1}{2}\\left(\\nabla \\mathbf{u} +  \\left( \\nabla \\mathbf{u} \\right)^{\\mathrm{T}} \\right)$ is the Newtonian fluid's rate of strain tensor and the regularized semi-phase-field (representing the solid volume fraction) is \n",
    "\n",
    "\\begin{align*}\n",
    "    \\phi(T) = \\frac{1}{2}\\left(1 + \\tanh{\\frac{T_r - T}{r}} \\right)\n",
    "\\end{align*}"
   ]
  },
  {
   "cell_type": "markdown",
   "metadata": {},
   "source": [
    "## Python packages\n",
    "\n",
    "Import the Python packages for use in this notebook."
   ]
  },
  {
   "cell_type": "markdown",
   "metadata": {},
   "source": [
    "We use the finite element method library FEniCS."
   ]
  },
  {
   "cell_type": "code",
   "execution_count": 1,
   "metadata": {},
   "outputs": [],
   "source": [
    "import fenics"
   ]
  },
  {
   "cell_type": "markdown",
   "metadata": {},
   "source": [
    "|Note|\n",
    "|----|\n",
    "| This Jupyter notebook server is using FEniCS 2017.2.0 from ppa:fenics-packages/fenics, installed via `apt` on Ubuntu 16.04.|"
   ]
  },
  {
   "cell_type": "markdown",
   "metadata": {},
   "source": [
    "FEniCS has convenient plotting features that don't require us to import `matplotlib`; but using `matplotlib` directly will allow us to annotate the plots."
   ]
  },
  {
   "cell_type": "code",
   "execution_count": 2,
   "metadata": {},
   "outputs": [],
   "source": [
    "import matplotlib"
   ]
  },
  {
   "cell_type": "markdown",
   "metadata": {},
   "source": [
    "Tell this notebook to embed graphical outputs from `matplotlib`, includings those made by `fenics.plot`."
   ]
  },
  {
   "cell_type": "code",
   "execution_count": 3,
   "metadata": {},
   "outputs": [],
   "source": [
    "%matplotlib inline"
   ]
  },
  {
   "cell_type": "markdown",
   "metadata": {},
   "source": [
    "## Initial mesh"
   ]
  },
  {
   "cell_type": "markdown",
   "metadata": {},
   "source": [
    "Define a coarse mesh on the unit square and refine it near the hot wall where there will be an initial layer of melt."
   ]
  },
  {
   "cell_type": "code",
   "execution_count": 5,
   "metadata": {},
   "outputs": [
    {
     "ename": "RuntimeError",
     "evalue": "\n\n*** -------------------------------------------------------------------------\n*** DOLFIN encountered an error. If you are not able to resolve this issue\n*** using the information listed below, you can ask for help at\n***\n***     fenics-support@googlegroups.com\n***\n*** Remember to include the error message listed below and, if possible,\n*** include a *minimal* running example to reproduce the error.\n***\n*** -------------------------------------------------------------------------\n*** Error:   Unable to adapt mesh function.\n*** Reason:  Unable to extract information about parent mesh entities.\n*** Where:   This error was encountered inside adapt.cpp.\n*** Process: 0\n*** \n*** DOLFIN version: 2018.1.0\n*** Git changeset:  unknown\n*** -------------------------------------------------------------------------\n",
     "output_type": "error",
     "traceback": [
      "\u001b[0;31m---------------------------------------------------------------------------\u001b[0m",
      "\u001b[0;31mRuntimeError\u001b[0m                              Traceback (most recent call last)",
      "\u001b[0;32m<ipython-input-5-2825ceb0b446>\u001b[0m in \u001b[0;36m<module>\u001b[0;34m()\u001b[0m\n\u001b[1;32m     22\u001b[0m     \u001b[0mhot_wall\u001b[0m\u001b[0;34m.\u001b[0m\u001b[0mmark\u001b[0m\u001b[0;34m(\u001b[0m\u001b[0medge_markers\u001b[0m\u001b[0;34m,\u001b[0m \u001b[0;32mTrue\u001b[0m\u001b[0;34m)\u001b[0m\u001b[0;34m\u001b[0m\u001b[0m\n\u001b[1;32m     23\u001b[0m \u001b[0;34m\u001b[0m\u001b[0m\n\u001b[0;32m---> 24\u001b[0;31m     \u001b[0mfenics\u001b[0m\u001b[0;34m.\u001b[0m\u001b[0madapt\u001b[0m\u001b[0;34m(\u001b[0m\u001b[0medge_markers\u001b[0m\u001b[0;34m,\u001b[0m \u001b[0mmesh\u001b[0m\u001b[0;34m)\u001b[0m\u001b[0;34m\u001b[0m\u001b[0m\n\u001b[0m\u001b[1;32m     25\u001b[0m \u001b[0;34m\u001b[0m\u001b[0m\n\u001b[1;32m     26\u001b[0m     \u001b[0mmesh\u001b[0m \u001b[0;34m=\u001b[0m \u001b[0mmesh\u001b[0m\u001b[0;34m.\u001b[0m\u001b[0mchild\u001b[0m\u001b[0;34m(\u001b[0m\u001b[0;34m)\u001b[0m\u001b[0;34m\u001b[0m\u001b[0m\n",
      "\u001b[0;31mRuntimeError\u001b[0m: \n\n*** -------------------------------------------------------------------------\n*** DOLFIN encountered an error. If you are not able to resolve this issue\n*** using the information listed below, you can ask for help at\n***\n***     fenics-support@googlegroups.com\n***\n*** Remember to include the error message listed below and, if possible,\n*** include a *minimal* running example to reproduce the error.\n***\n*** -------------------------------------------------------------------------\n*** Error:   Unable to adapt mesh function.\n*** Reason:  Unable to extract information about parent mesh entities.\n*** Where:   This error was encountered inside adapt.cpp.\n*** Process: 0\n*** \n*** DOLFIN version: 2018.1.0\n*** Git changeset:  unknown\n*** -------------------------------------------------------------------------\n"
     ]
    }
   ],
   "source": [
    "N = 1\n",
    "\n",
    "mesh = fenics.UnitSquareMesh(N, N)\n",
    "\n",
    "\n",
    "class HotWall(fenics.SubDomain):\n",
    "    \n",
    "    def inside(self, x, on_boundary):\n",
    "\n",
    "        return on_boundary and fenics.near(x[0], 0.)\n",
    "\n",
    "\n",
    "hot_wall = HotWall()\n",
    "\n",
    "\n",
    "initial_hot_wall_refinement_cycles = 6\n",
    "\n",
    "for cycle in range(initial_hot_wall_refinement_cycles):\n",
    "\n",
    "    edge_markers = fenics.MeshFunction(\"size_t\", mesh, 1, False)\n",
    "\n",
    "    hot_wall.mark(edge_markers, True)\n",
    "\n",
    "    fenics.adapt(edge_markers, mesh)\n",
    "\n",
    "    mesh = mesh.child()"
   ]
  },
  {
   "cell_type": "markdown",
   "metadata": {},
   "source": [
    "Let's look at the mesh."
   ]
  },
  {
   "cell_type": "code",
   "execution_count": null,
   "metadata": {},
   "outputs": [],
   "source": [
    "fenics.plot(mesh)\n",
    "\n",
    "matplotlib.pyplot.title(\"Initial Mesh\")\n",
    "\n",
    "matplotlib.pyplot.xlabel(\"$x$\")\n",
    "\n",
    "matplotlib.pyplot.ylabel(\"$y$\")"
   ]
  },
  {
   "cell_type": "markdown",
   "metadata": {},
   "source": [
    "## Mixed finite element function space, test functions, and solution functions"
   ]
  },
  {
   "cell_type": "markdown",
   "metadata": {},
   "source": [
    "Make the mixed finite element. We choose pressure and velocity subspaces analagous to the Taylor-Hood (i.e. P2P1) mixed element, but we extend this further with a P1 element for the temperature."
   ]
  },
  {
   "cell_type": "code",
   "execution_count": null,
   "metadata": {},
   "outputs": [],
   "source": [
    "P1 = fenics.FiniteElement('P', mesh.ufl_cell(), 1)\n",
    "\n",
    "P2 = fenics.VectorElement('P', mesh.ufl_cell(), 2)\n",
    "\n",
    "mixed_element = fenics.MixedElement([P1, P2, P1])"
   ]
  },
  {
   "cell_type": "markdown",
   "metadata": {},
   "source": [
    "|Note|\n",
    "|----|\n",
    "|`fenics.FiniteElement` requires the `mesh.ufl_cell()` argument to determine some aspects of the domain (e.g. that the spatial domain is two-dimensional).|"
   ]
  },
  {
   "cell_type": "markdown",
   "metadata": {},
   "source": [
    "Make the mixed finite element function space $\\mathbf{W}$, which enumerates the mixed element basis functions on each cell of the mesh."
   ]
  },
  {
   "cell_type": "code",
   "execution_count": null,
   "metadata": {},
   "outputs": [],
   "source": [
    "W = fenics.FunctionSpace(mesh, mixed_element)"
   ]
  },
  {
   "cell_type": "markdown",
   "metadata": {},
   "source": [
    "Make the test functions $\\psi_p$, $\\boldsymbol{\\psi}_u$, and $\\psi_T$."
   ]
  },
  {
   "cell_type": "code",
   "execution_count": null,
   "metadata": {},
   "outputs": [],
   "source": [
    "psi_p, psi_u, psi_T = fenics.TestFunctions(W)"
   ]
  },
  {
   "cell_type": "markdown",
   "metadata": {},
   "source": [
    "Make the system solution function $\\mathbf{w} \\in \\mathbf{W}$ and obtain references to its components $p$, $\\mathbf{u}$, and $T$."
   ]
  },
  {
   "cell_type": "code",
   "execution_count": null,
   "metadata": {},
   "outputs": [],
   "source": [
    "w = fenics.Function(W)\n",
    "\n",
    "p, u, T = fenics.split(w)"
   ]
  },
  {
   "cell_type": "markdown",
   "metadata": {},
   "source": [
    "### Benchmark parameters"
   ]
  },
  {
   "cell_type": "markdown",
   "metadata": {},
   "source": [
    "Set constant Prandtl, Rayleigh, and Stefan numbers for the convection-coupled melting benchmark in [4] and [5]. For each we define a `fenics.Constant` for use in the variational form so that FEniCS can more efficiently compile the finite element code."
   ]
  },
  {
   "cell_type": "code",
   "execution_count": null,
   "metadata": {},
   "outputs": [],
   "source": [
    "prandtl_number = 56.2\n",
    "\n",
    "Pr = fenics.Constant(prandtl_number)\n",
    "\n",
    "rayleigh_number = 3.27e5\n",
    "\n",
    "Ra = fenics.Constant(rayleigh_number)\n",
    "\n",
    "stefan_number = 0.045\n",
    "\n",
    "Ste = fenics.Constant(stefan_number)"
   ]
  },
  {
   "cell_type": "markdown",
   "metadata": {},
   "source": [
    "Define the idealized linear Boussinesq buoyancy, scaled according to [5],\n",
    "\n",
    "\\begin{align*}\n",
    "\\mathbf{f}_B(T) = \\frac{\\mathrm{Ra}}{\\mathrm{Pr}} T\\begin{pmatrix} 0 \\\\ -1 \\end{pmatrix}.\n",
    "\\end{align*}"
   ]
  },
  {
   "cell_type": "code",
   "execution_count": null,
   "metadata": {},
   "outputs": [],
   "source": [
    "f_B = Ra/Pr*T*fenics.Constant((0., -1.))"
   ]
  },
  {
   "cell_type": "markdown",
   "metadata": {},
   "source": [
    "Set the regularized semi-phase-field with a central temperature $T_r$ and smoothing parameter $r$."
   ]
  },
  {
   "cell_type": "code",
   "execution_count": null,
   "metadata": {},
   "outputs": [],
   "source": [
    "regularization_central_temperature = 0.01\n",
    "\n",
    "T_r = fenics.Constant(regularization_central_temperature)\n",
    "\n",
    "regularization_smoothing_parameter = 0.025\n",
    "\n",
    "r = fenics.Constant(regularization_smoothing_parameter)\n",
    "\n",
    "tanh = fenics.tanh\n",
    "\n",
    "def phi(T):\n",
    "    \n",
    "    return 0.5*(1. + tanh((T_r - T)/r))"
   ]
  },
  {
   "cell_type": "markdown",
   "metadata": {},
   "source": [
    "Set the phase-dependent dynamic viscosity"
   ]
  },
  {
   "cell_type": "code",
   "execution_count": null,
   "metadata": {},
   "outputs": [],
   "source": [
    "liquid_dynamic_viscosity = 1.\n",
    "\n",
    "mu_L = fenics.Constant(liquid_dynamic_viscosity)\n",
    "\n",
    "solid_dynamic_viscosity = 1.e8\n",
    "\n",
    "mu_S = fenics.Constant(solid_dynamic_viscosity)\n",
    "\n",
    "def mu(phi):\n",
    "    \n",
    "     return mu_L + (mu_S - mu_L)*phi"
   ]
  },
  {
   "cell_type": "markdown",
   "metadata": {},
   "source": [
    "Furthermore the benchmark problem involves hot and cold walls with constant temperatures $T_h$ and $T_c$, respectively."
   ]
  },
  {
   "cell_type": "code",
   "execution_count": null,
   "metadata": {},
   "outputs": [],
   "source": [
    "hot_wall_temperature = 1.\n",
    "\n",
    "T_h = fenics.Constant(hot_wall_temperature)\n",
    "\n",
    "cold_wall_temperature = -0.01\n",
    "\n",
    "T_c = fenics.Constant(cold_wall_temperature)"
   ]
  },
  {
   "cell_type": "markdown",
   "metadata": {},
   "source": [
    "### Time discretization"
   ]
  },
  {
   "cell_type": "markdown",
   "metadata": {},
   "source": [
    "To solve the initial value problem, we will prescribe the initial values, and then take discrete steps forward in time which solve the governing equations.\n",
    "\n",
    "We set the initial values such that a small layer of melt already exists touching the hot wall.\n",
    "\n",
    "\\begin{align*}\n",
    "    p^0  &= 0  \\\\\n",
    "    \\mathbf{u}^0 &= \\mathbf{0} \\\\\n",
    "    T^0  &= \n",
    "    \\begin{cases}\n",
    "        T_h, && x_0 < x_{m,0} \\\\\n",
    "        T_c, && \\mathrm{otherwise}\n",
    "    \\end{cases}\n",
    "\\end{align*}"
   ]
  },
  {
   "cell_type": "markdown",
   "metadata": {},
   "source": [
    "Interpolate these values to create the initial solution function."
   ]
  },
  {
   "cell_type": "code",
   "execution_count": null,
   "metadata": {},
   "outputs": [],
   "source": [
    "initial_melt_thickness = 1./2.**(initial_hot_wall_refinement_cycles - 1)\n",
    "\n",
    "w_n = fenics.interpolate(\n",
    "    fenics.Expression((\"0.\", \"0.\", \"0.\", \"(T_h - T_c)*(x[0] < x_m0) + T_c\"),\n",
    "                      T_h = hot_wall_temperature, T_c = cold_wall_temperature,\n",
    "                      x_m0 = initial_melt_thickness,\n",
    "                      element = mixed_element),\n",
    "    W)\n",
    "\n",
    "p_n, u_n, T_n = fenics.split(w_n)"
   ]
  },
  {
   "cell_type": "markdown",
   "metadata": {},
   "source": [
    "Let's look at the initial values now."
   ]
  },
  {
   "cell_type": "code",
   "execution_count": null,
   "metadata": {},
   "outputs": [],
   "source": [
    "fenics.plot(T_n)\n",
    "\n",
    "matplotlib.pyplot.title(\"$T^0$\")\n",
    "\n",
    "matplotlib.pyplot.xlabel(\"$x$\")\n",
    "\n",
    "matplotlib.pyplot.ylabel(\"$y$\")"
   ]
  },
  {
   "cell_type": "markdown",
   "metadata": {},
   "source": [
    "For the time derivative terms $\\mathbf{u}_t$, $T_t$, and $\\phi_t$, we apply the first-order implicit Euler finite difference time discretization, i.e.\n",
    "\n",
    "\\begin{align*}\n",
    "    \\mathbf{u}_t = \\frac{\\mathbf{u}^{n+1} - \\mathbf{u}^n}{\\Delta t} \\\\\n",
    "    T_t = \\frac{T^{n+1} - T^n}{\\Delta t} \\\\\n",
    "    \\phi_t = \\frac{\\phi^{n+1} - \\phi^n}{\\Delta t} \n",
    "\\end{align*}\n",
    "\n",
    "|Note|\n",
    "|----|\n",
    "|For our implementation, we will use the shorthand $\\mathbf{w} = \\mathbf{w}^{n+1}$|\n",
    "\n",
    "Choose a time step size and set the time derivative terms."
   ]
  },
  {
   "cell_type": "code",
   "execution_count": null,
   "metadata": {},
   "outputs": [],
   "source": [
    "timestep_size = 10.\n",
    "\n",
    "Delta_t = fenics.Constant(timestep_size)\n",
    "\n",
    "u_t = (u - u_n)/Delta_t\n",
    "\n",
    "T_t = (T - T_n)/Delta_t\n",
    "\n",
    "phi_t = (phi(T) - phi(T_n))/Delta_t"
   ]
  },
  {
   "cell_type": "markdown",
   "metadata": {},
   "source": [
    "## Nonlinear variational form"
   ]
  },
  {
   "cell_type": "markdown",
   "metadata": {},
   "source": [
    "We can write the nonlinear system of equations as\n",
    "\n",
    "\\begin{align*}\n",
    "\\mathbf{F}(\\mathbf{w}) = \\mathbf{0}\n",
    "\\end{align*}\n",
    "\n",
    "To obtain the finite element weak form, we follow the standard Ritz-Galerkin method extended for mixed finite elements [1]. Therefore, we multiply the system  *from the left* by test functions $\\boldsymbol{\\psi}$ from the mixed finite element function space $\\mathbf{W}$ and integrate over the spatial domain $\\Omega$. This gives us the variational problem: Find $\\mathbf{w} \\in \\mathbf{W}$ such that\n",
    "\n",
    "\\begin{align*}\n",
    "    \\mathcal{F}(\\boldsymbol{\\psi};\\mathbf{w}) = \\int_\\Omega \n",
    "    \\boldsymbol{\\psi}^\\mathrm{T} \\mathbf{F}(\\mathbf{w}) \n",
    "    d\\mathbf{x} = 0 \\quad \\forall \\boldsymbol{\\psi} \\in \\mathbf{W}\n",
    "\\end{align*}"
   ]
  },
  {
   "cell_type": "markdown",
   "metadata": {},
   "source": [
    "Integrating $\\mathcal{F}$ by parts yields\n",
    " \n",
    "\\begin{align*}\n",
    "    \\mathcal{F}(\\boldsymbol{\\psi};\\mathbf{w}) = -(\\psi_p,\\nabla\\cdot\\mathbf{u}) \\\\\n",
    "    + (\\boldsymbol{\\psi}_u, \\mathbf{u}_t + \\nabla\\mathbf{u}\\cdot\\mathbf{u} + \\mathbf{f}_B(T)) -(\\nabla\\cdot\\boldsymbol{\\psi}_u,p) + 2\\mu(\\mathbf{D}(\\boldsymbol{\\psi}_u),\\mathbf{D}(\\mathbf{u})) \\\\\n",
    "    + (\\psi_T,T_t - \\frac{1}{Ste}\\phi_t) + (\\nabla \\psi_T, \\frac{1}{\\mathrm{Pr}}\\nabla T - T\\mathbf{u})\n",
    "\\end{align*}\n",
    "\n",
    "|Note| \n",
    "|----|\n",
    "|We denote integrating inner products over the domain as $(v,u) = \\int_\\Omega v u d \\mathbf{x}$ or $(\\mathbf{v},\\mathbf{u}) = \\int_\\Omega \\mathbf{v} \\cdot \\mathbf{u} d \\mathbf{x}$.|"
   ]
  },
  {
   "cell_type": "markdown",
   "metadata": {},
   "source": [
    "By default FEniCS will numerically integrate with an exact quadrature rule. For this particular problem, this yields a large enough number of quadrature points that FEniCS throws a warning. Let's choose a lower degree quadrature, which will greatly speed up the finite element matrix assembly."
   ]
  },
  {
   "cell_type": "code",
   "execution_count": null,
   "metadata": {},
   "outputs": [],
   "source": [
    "dx = fenics.dx(metadata={'quadrature_degree': 8})"
   ]
  },
  {
   "cell_type": "markdown",
   "metadata": {},
   "source": [
    "Define the nonlinear variational form $\\mathcal{F}$."
   ]
  },
  {
   "cell_type": "code",
   "execution_count": null,
   "metadata": {},
   "outputs": [],
   "source": [
    "inner, dot, grad, div, sym = \\\n",
    "    fenics.inner, fenics.dot, fenics.grad, fenics.div, fenics.sym\n",
    "    \n",
    "mass = -psi_p*div(u)\n",
    "\n",
    "momentum = dot(psi_u, u_t + dot(grad(u), u) + f_B) - div(psi_u)*p \\\n",
    "    + 2.*mu(phi(T))*inner(sym(grad(psi_u)), sym(grad(u)))\n",
    "\n",
    "enthalpy = psi_T*(T_t - 1./Ste*phi_t) + dot(grad(psi_T), 1./Pr*grad(T) - T*u)\n",
    "        \n",
    "F = (mass + momentum + enthalpy)*dx"
   ]
  },
  {
   "cell_type": "markdown",
   "metadata": {},
   "source": [
    "We add a penalty method stabilization term $-\\gamma(\\psi_p,p)$, setting the stabilization parameter $\\gamma = 10^{-7}$ as done in [4].\n",
    "\n",
    "|Note|\n",
    "|----|\n",
    "|One can solve the incompressible Navier-Stokes equation **either** with P2P1 elements, **or** with the penalty method and P1P1 elements. Neither of these approaches works alone when also coupling the temperature convection-diffusion equation with Boussinesq buoyancy; but applying both stabilization methods together does work.|"
   ]
  },
  {
   "cell_type": "code",
   "execution_count": null,
   "metadata": {},
   "outputs": [],
   "source": [
    "penalty_stabilization_parameter = 1.e-7\n",
    "\n",
    "gamma = fenics.Constant(penalty_stabilization_parameter)\n",
    "\n",
    "F += -psi_p*gamma*p*dx"
   ]
  },
  {
   "cell_type": "markdown",
   "metadata": {},
   "source": [
    "## Linearization\n",
    "Notice that $\\mathcal{F}$ is a *nonlinear* variational form. FEniCS will solve the nonlinear problem using Newton's method. This requires computing the Jacobian (formally the Gâteaux derivative) of the nonlinear variational form, yielding a a sequence of linearized problems whose solutions may converge to approximate the nonlinear solution.\n",
    "\n",
    "We could manually define the Jacobian; but thankfully FEniCS can do this for us.\n",
    "\n",
    "|Note|\n",
    "|----|\n",
    "|When solving linear variational problems in FEniCS, one defines the linear variational form using `fenics.TrialFunction` instead of `fenics.Function` (while both approaches will need `fenics.TestFunction`). When solving nonlinear variational problems with FEniCS, we only need `fenics.TrialFunction` to define the linearized problem, since it is the linearized problem which will be assembled into a linear system and solved.|"
   ]
  },
  {
   "cell_type": "code",
   "execution_count": null,
   "metadata": {},
   "outputs": [],
   "source": [
    "JF = fenics.derivative(F, w, fenics.TrialFunction(W))"
   ]
  },
  {
   "cell_type": "markdown",
   "metadata": {},
   "source": [
    "## Boundary conditions"
   ]
  },
  {
   "cell_type": "markdown",
   "metadata": {},
   "source": [
    "We need boundary conditions before we can define a nonlinear variational *problem* (i.e. in this case a boundary value problem).\n",
    "\n",
    "We physically consider *no slip* velocity boundary conditions for all boundaries. These manifest as homogeneous Dirichlet boundary conditions. For the temperature boundary conditions, we consider a constant hot temperature on the left wall, a constant cold temperature on the right wall, and adiabatic (i.e. zero heat transfer) conditions on the top and bottom walls. Because the problem's geometry is simple, we can identify the boundaries with the following piece-wise function.\n",
    "\n",
    "\\begin{align*}\n",
    "    T(\\mathbf{x}) &= \n",
    "    \\begin{cases}\n",
    "        T_h , && x_0 = 0 \\\\\n",
    "        T_c , && x_0 = 1 \n",
    "    \\end{cases}\n",
    "\\end{align*}"
   ]
  },
  {
   "cell_type": "code",
   "execution_count": null,
   "metadata": {},
   "outputs": [],
   "source": [
    "hot_wall = \"near(x[0],  0.)\"\n",
    "\n",
    "cold_wall = \"near(x[0],  1.)\"\n",
    "\n",
    "adiabatic_walls = \"near(x[1],  0.) | near(x[1],  1.)\"\n",
    "\n",
    "walls = hot_wall + \" | \" + cold_wall + \" | \" + adiabatic_walls"
   ]
  },
  {
   "cell_type": "markdown",
   "metadata": {},
   "source": [
    "Define the boundary conditions on the appropriate subspaces."
   ]
  },
  {
   "cell_type": "code",
   "execution_count": null,
   "metadata": {},
   "outputs": [],
   "source": [
    "W_u = W.sub(1)\n",
    "\n",
    "W_T = W.sub(2)\n",
    "\n",
    "boundary_conditions = [\n",
    "    fenics.DirichletBC(W_u, (0., 0.), walls),\n",
    "    fenics.DirichletBC(W_T, hot_wall_temperature, hot_wall),\n",
    "    fenics.DirichletBC(W_T, cold_wall_temperature, cold_wall)]"
   ]
  },
  {
   "cell_type": "markdown",
   "metadata": {},
   "source": [
    "## Nonlinear variational problem"
   ]
  },
  {
   "cell_type": "markdown",
   "metadata": {},
   "source": [
    "Now we have everything we need to define the variational problem."
   ]
  },
  {
   "cell_type": "code",
   "execution_count": null,
   "metadata": {},
   "outputs": [],
   "source": [
    "problem = fenics.NonlinearVariationalProblem(F, w, boundary_conditions, JF)"
   ]
  },
  {
   "cell_type": "markdown",
   "metadata": {},
   "source": [
    "## Goal-oriented adaptive mesh refinement (AMR)"
   ]
  },
  {
   "cell_type": "markdown",
   "metadata": {},
   "source": [
    "We wish to solve the problem with adaptive mesh refinement (AMR). For this it helps to explain that we have already defined the *discrete* nonlinear variational problem using FEniCS: Find $\\mathbf{w}_h \\in \\mathbf{W}_h \\subset \\mathbf{W}(\\Omega)$ such that\n",
    "\n",
    "\\begin{align*}\n",
    "    \\mathcal{F}(\\boldsymbol{\\psi}_h;\\mathbf{w}_h) = 0 \\quad \\forall \\boldsymbol{\\psi}_h \\in \\mathbf{W}_h \\subset \\mathbf{W}\n",
    "\\end{align*}"
   ]
  },
  {
   "cell_type": "markdown",
   "metadata": {},
   "source": [
    "Given this, goal-oriented AMR poses the problem: Find $\\mathbf{W}_h \\subset \\mathbf{W}(\\Omega)$ and $\\mathbf{w}_h \\in \\mathbf{W}_h$ such that\n",
    "\n",
    "\\begin{align*}\n",
    "    \\left| M(\\mathbf{w}) - M(\\mathbf{w}_h) \\right| < \\epsilon_M\n",
    "\\end{align*}\n",
    "\n",
    "where $M$ is some goal functional of the solution which we integrate over the domain, and where $\\epsilon_M$ is a prescribed tolerance. Note that since we do not know the exact solution $\\mathbf{w}$, this method requires an error estimator. This is detailed in [2]. For our purposes, we only need to define $M$ and $\\epsilon_M$.\n",
    "\n",
    "We choose a goal analagous to the melting rate.\n",
    "\n",
    "\\begin{align*}\n",
    "    M = \\int_\\Omega \\phi_t \\hspace{1mm} d\\mathbf{x}\n",
    "\\end{align*}"
   ]
  },
  {
   "cell_type": "code",
   "execution_count": null,
   "metadata": {},
   "outputs": [],
   "source": [
    "M = phi_t*dx"
   ]
  },
  {
   "cell_type": "markdown",
   "metadata": {},
   "source": [
    "Let's set the tolerance somewhat arbitrarily. For real problems of scientific or engineering interest, one might have accuracy requirements which could help drive this decision."
   ]
  },
  {
   "cell_type": "code",
   "execution_count": null,
   "metadata": {},
   "outputs": [],
   "source": [
    "epsilon_M = 4.e-5"
   ]
  },
  {
   "cell_type": "markdown",
   "metadata": {},
   "source": [
    "## The benchmark solution"
   ]
  },
  {
   "cell_type": "markdown",
   "metadata": {},
   "source": [
    "Finally we instantiate the adaptive solver with our problem and goal"
   ]
  },
  {
   "cell_type": "code",
   "execution_count": null,
   "metadata": {},
   "outputs": [],
   "source": [
    "solver = fenics.AdaptiveNonlinearVariationalSolver(problem, M)"
   ]
  },
  {
   "cell_type": "markdown",
   "metadata": {},
   "source": [
    "set the Newton solver's initial guess based on the initial values"
   ]
  },
  {
   "cell_type": "code",
   "execution_count": null,
   "metadata": {},
   "outputs": [],
   "source": [
    "w.leaf_node().vector()[:] = w_n.leaf_node().vector()"
   ]
  },
  {
   "cell_type": "markdown",
   "metadata": {},
   "source": [
    "and solve the problem to the prescribed tolerance."
   ]
  },
  {
   "cell_type": "code",
   "execution_count": null,
   "metadata": {},
   "outputs": [],
   "source": [
    "solver.solve(epsilon_M)"
   ]
  },
  {
   "cell_type": "markdown",
   "metadata": {},
   "source": [
    "|Note|\n",
    "|----|\n",
    "|`solver.solve` will modify the solution `w`, which means that `u` and `p` will also be modified.|"
   ]
  },
  {
   "cell_type": "markdown",
   "metadata": {},
   "source": [
    "Now plot the solid volume fraction, velocity field, and adapted mesh."
   ]
  },
  {
   "cell_type": "code",
   "execution_count": null,
   "metadata": {},
   "outputs": [],
   "source": [
    "def plot(w):\n",
    "    \n",
    "    p, u, T = fenics.split(w.leaf_node())\n",
    "    \n",
    "    \n",
    "    fenics.plot(phi(T))\n",
    "\n",
    "    matplotlib.pyplot.title(\"Solid volume fraction\")\n",
    "\n",
    "    matplotlib.pyplot.xlabel(\"$x$\")\n",
    "\n",
    "    matplotlib.pyplot.ylabel(\"$y$\")\n",
    "    \n",
    "    matplotlib.pyplot.show()\n",
    "    \n",
    "    \n",
    "    fenics.plot(u)\n",
    "\n",
    "    matplotlib.pyplot.title(\"Velocity vector field\")\n",
    "\n",
    "    matplotlib.pyplot.xlabel(\"$x$\")\n",
    "\n",
    "    matplotlib.pyplot.ylabel(\"$y$\")\n",
    "    \n",
    "    matplotlib.pyplot.show()\n",
    "\n",
    "    \n",
    "    fenics.plot(w.leaf_node().function_space().mesh())\n",
    "\n",
    "    matplotlib.pyplot.title(\"Adapted mesh\")\n",
    "\n",
    "    matplotlib.pyplot.xlabel(\"$x$\")\n",
    "\n",
    "    matplotlib.pyplot.ylabel(\"$y$\")\n",
    "    \n",
    "    matplotlib.pyplot.show()\n",
    "    \n",
    "    \n",
    "plot(w)"
   ]
  },
  {
   "cell_type": "markdown",
   "metadata": {},
   "source": [
    "Let's run a few more time steps."
   ]
  },
  {
   "cell_type": "code",
   "execution_count": null,
   "metadata": {},
   "outputs": [],
   "source": [
    "for timestep in range(5):\n",
    "    \n",
    "    w_n.leaf_node().vector()[:] = w.leaf_node().vector()\n",
    "    \n",
    "    solver.solve(epsilon_M)\n",
    "    \n",
    "    plot(w)"
   ]
  },
  {
   "cell_type": "markdown",
   "metadata": {},
   "source": [
    "## References\n",
    "[1] A Logg, KA Mardal, and GN Wells. **Automated Solution of Differential Equations by the Finite Element Method**, *Springer*, 2012.\n",
    "\n",
    "[2] W Bangerth and R Rannacher. **Adaptive Finite Element Methods for Differential Equations**. *Springer Science & Business Media*, 2003.\n",
    "\n",
    "[3] J Donea and A Huerta. **Finite element methods for flow problems.** *John Wiley & Sons*, 2003. \n",
    "\n",
    "[4] I Danaila, R Moglan, F Hecht, and S Le Masson. **A newton method with adaptive finite elements for solving phase-change problems with natural convection.** *Journal of Computational Physics*, 274:826–840, 2014.\n",
    "\n",
    "[5] AG Zimmerman and J Kowalski. **Monolithic simulation of convection-coupled phase-change - verification and reproducibility.** *arXiv:1801.03429 [physics.flu-dyn]*, 2018."
   ]
  }
 ],
 "metadata": {
  "kernelspec": {
   "display_name": "Python 3",
   "language": "python",
   "name": "python3"
  },
  "language_info": {
   "codemirror_mode": {
    "name": "ipython",
    "version": 3
   },
   "file_extension": ".py",
   "mimetype": "text/x-python",
   "name": "python",
   "nbconvert_exporter": "python",
   "pygments_lexer": "ipython3",
   "version": "3.6.6"
  }
 },
 "nbformat": 4,
 "nbformat_minor": 2
}
